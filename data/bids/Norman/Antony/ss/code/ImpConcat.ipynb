{
 "cells": [
  {
   "cell_type": "markdown",
   "metadata": {},
   "source": [
    "# fMRI Data Loading and Normalization in Python \n",
    "**[Contributors: original code: Manoj Kumar, adapted by Elizabeth McDevitt and later by James Antony](#contributions)**   \n",
    "\n",
    "### Goal of this script\n",
    " 1. load the 3 viewing runs of fMRI data into python, locally or in // (see 1st cell)\n",
    " 2. create an average brain mask from multiple runs - ses01_brain\n",
    " 3. perform spatial smoothing using SUSAN smooth\n",
    " 4. trim TRs from the beginning AND end of each run (and apply this trimming to the confounds as well)\n",
    "     - save volume as _trimTRs.nii.gz\n",
    " 5. apply a high-pass filter and z-score the data\n",
    "     - save volume as _trim_norm.nii.gz\n",
    " 6. concatenate runs to make one time series in a standardized order"
   ]
  },
  {
   "cell_type": "code",
   "execution_count": 36,
   "metadata": {},
   "outputs": [
    {
     "name": "stdout",
     "output_type": "stream",
     "text": [
      "1\n",
      "sub-01\n"
     ]
    }
   ],
   "source": [
    "# 'ipynby' is how I switch between running in jupyter notebooks and on our computing cluster. \n",
    "# see .sh files like ImpConcat_batch, which calls ImpConcat_srun, to see jargon for running\n",
    "# in parallel. \n",
    "ipynby=1 #python notebook or not\n",
    "if ipynby==0: #jargon for // scripting\n",
    "    import argparse\n",
    "    parser = argparse.ArgumentParser()\n",
    "    parser.add_argument('-subject', type=str)\n",
    "    args = parser.parse_args()\n",
    "    print(args.subject)\n",
    "    subject=args.subject\n",
    "elif ipynby==1: #if local\n",
    "    subject=1\n",
    "print(len(str(subject)))\n",
    "if len(str(subject))==1:\n",
    "    sub ='sub-0'+str(subject)\n",
    "else:\n",
    "    sub ='sub-'+str(subject)\n",
    "subS = str(int(subject))\n",
    "ses = 'ses-01'\n",
    "task='view'\n",
    "n_trunc=3 # #volumes to trim/truncate = 3\n",
    "hrshiftval=5 # #volumes to shift for HMM analyses\n",
    "filtcutoff=128 #high-pass filter\n",
    "print(sub)\n",
    "startcut=10"
   ]
  },
  {
   "cell_type": "code",
   "execution_count": 37,
   "metadata": {},
   "outputs": [
    {
     "data": {
      "application/javascript": [
       "IPython.notebook.set_autosave_interval(30000)"
      ]
     },
     "metadata": {},
     "output_type": "display_data"
    },
    {
     "name": "stdout",
     "output_type": "stream",
     "text": [
      "Autosaving every 30 seconds\n"
     ]
    }
   ],
   "source": [
    "#import packages\n",
    "import warnings\n",
    "import sys \n",
    "if not sys.warnoptions:\n",
    "    warnings.simplefilter(\"ignore\")\n",
    "import time\n",
    "import os\n",
    "import shutil\n",
    "import numpy as np\n",
    "import pandas as pd\n",
    "import nibabel as nib\n",
    "from nilearn.input_data import NiftiMasker,  MultiNiftiMasker\n",
    "from nilearn.masking import intersect_masks\n",
    "from nilearn.datasets import load_mni152_template\n",
    "from nilearn.plotting import plot_roi\n",
    "from nilearn.plotting import plot_anat\n",
    "from nilearn.plotting import plot_epi\n",
    "from nilearn import image\n",
    "from nilearn.image.image import mean_img\n",
    "from nilearn.image import resample_to_img\n",
    "from scipy import stats\n",
    "from sklearn import preprocessing\n",
    "from sklearn import datasets, linear_model\n",
    "import matplotlib.pyplot as plt \n",
    "import scipy.io\n",
    "from nipype.workflows.fmri.fsl.preprocess import create_susan_smooth \n",
    "#from nipype.workflows.fmri.fsl import create_susan_smooth \n",
    "\n",
    "if ipynby==1: #if local\n",
    "    %matplotlib inline \n",
    "    %autosave 30"
   ]
  },
  {
   "cell_type": "code",
   "execution_count": 38,
   "metadata": {
    "scrolled": true
   },
   "outputs": [
    {
     "name": "stdout",
     "output_type": "stream",
     "text": [
      "TASK: view\n",
      "LIST OF TASKS: ['view', 'recall']\n",
      "task index: 0\n",
      "\n",
      "[[   1  366]\n",
      " [ 367  769]\n",
      " [ 770 1203]\n",
      " [1204 1608]\n",
      " [1609 1976]\n",
      " [1977 2297]\n",
      " [2298 2635]\n",
      " [2636 3080]\n",
      " [3081 3426]]\n",
      "[[   1  364]\n",
      " [ 365  765]\n",
      " [ 766 1197]\n",
      " [1198 1600]\n",
      " [1601 1966]\n",
      " [1967 2285]\n",
      " [2286 2621]\n",
      " [2622 3064]\n",
      " [3065 3408]]\n",
      "bids dir = /jukebox/norman/jantony/surprisesuspense/data/bids/Norman/Antony/ss/\n",
      "anat dir = /jukebox/norman/jantony/surprisesuspense/data/bids/Norman/Antony/ss/sub-01/ses-01/anat/\n",
      "subject dir = /jukebox/norman/jantony/surprisesuspense/data/bids/Norman/Antony/ss/derivatives/fmriprep/sub-01/ses-01/func/\n",
      "output dir = /jukebox/norman/jantony/surprisesuspense/data/bids/Norman/Antony/ss/derivatives/firstlevel/sub-01/\n",
      "number of view runs = 3\n",
      "number of games = 9\n",
      "TR = 1 seconds\n",
      "trim 3 volumes from each run\n",
      "Game order = [[3 2 6 4 1 9 8 5 7]]\n",
      "Movie start times = [[2.00000000e+00 4.67945291e+06]\n",
      " [4.65000000e+02 4.67945336e+06]\n",
      " [8.98000000e+02 4.67945330e+06]\n",
      " [8.00000000e+00 4.68169451e+06]\n",
      " [4.54000000e+02 4.68169446e+06]\n",
      " [8.50000000e+02 4.68169446e+06]\n",
      " [1.30000000e+01 4.68379124e+06]\n",
      " [5.01000000e+02 4.68379216e+06]\n",
      " [9.10000000e+02 4.68379208e+06]]\n",
      "Movie end times = [[4.43000000e+02 1.50560387e-01]\n",
      " [8.76000000e+02 4.61978202e-01]\n",
      " [1.22700000e+03 2.40839641e-01]\n",
      " [4.20000000e+02 8.47059963e-01]\n",
      " [8.27000000e+02 6.08581802e-01]\n",
      " [1.20300000e+03 3.38027758e-01]\n",
      " [4.65000000e+02 4.70464011e-01]\n",
      " [8.77000000e+02 9.48816338e-01]\n",
      " [1.25600000e+03 2.11103783e-01]]\n"
     ]
    }
   ],
   "source": [
    "# load some helper functions and import data / settings\n",
    "#sys.path.insert(0, '/jukebox/norman/jantony/surprisesuspense/data/bids/Norman/Antony/ss/code/')\n",
    "import ss_utils\n",
    "from ss_utils import load_ss_epi_data, load_ss_mask, mask_data, load_data\n",
    "from ss_utils import ss_dir, ss_bids_dir, ss_TR, ss_hrf_lag, run_names, n_runs\n",
    "print('TASK:', task)\n",
    "print('LIST OF TASKS:', run_names)\n",
    "task_index = run_names.index(task)\n",
    "print('task index:', task_index)\n",
    "print('')\n",
    "\n",
    "#these two subjects had to be restarted mid-1st run (between videos), so this accounts for that (more below)\n",
    "if subject==4 or subject==5: \n",
    "    firstrun=0\n",
    "else: \n",
    "    firstrun=1\n",
    "lastrun=3\n",
    "n_runs_view = lastrun-firstrun+1\n",
    "\n",
    "#directories\n",
    "bold_dir=ss_bids_dir + 'derivatives/fmriprep/%s/%s/func/' % (sub, ses)\n",
    "#anat_dir=ss_dir + 'data/extra/T1w_defaced/'\n",
    "anat_dir=ss_bids_dir + '%s/%s/anat/' % (sub, ses)\n",
    "anat_fmriprep_dir=ss_bids_dir + 'derivatives/fmriprep/%s/anat/' % sub\n",
    "out_dir= ss_bids_dir + 'derivatives/firstlevel/%s/' % sub\n",
    "mask_fold = ss_bids_dir + 'derivatives/firstlevel/%s/masks/' % sub\n",
    "ses1_dir=ss_bids_dir + 'derivatives/fmriprep/%s/ses-01/func/' % sub\n",
    "\n",
    "#load parameters from MATLAB outputs\n",
    "#load g_o\n",
    "ss_tngs=9 # # of games\n",
    "analysis_dir=ss_dir+'analysis/'\n",
    "mat_fname=analysis_dir+'d_event_mat1' #previously d_event_mat\n",
    "mat_contents = scipy.io.loadmat(mat_fname)\n",
    "d_fl = mat_contents['d_fl'] #1st TR for GLM\n",
    "event_fl = mat_contents['event_fl'] #1st TR for event matrix\n",
    "print(d_fl)\n",
    "print(event_fl)\n",
    "nonfmri_dir=ss_dir+'data/nonfmri/%s/' %subS\n",
    "mat_fname=nonfmri_dir+'g_o.mat' # game order\n",
    "mat_contents = scipy.io.loadmat(mat_fname)\n",
    "g_o = mat_contents['g_o'] \n",
    "mat_fname=nonfmri_dir+'MSMEhr2.mat' #MSMEhr.mat\n",
    "mat_contents = scipy.io.loadmat(mat_fname)\n",
    "MSTR = mat_contents['MSTR'] #movie start TRs\n",
    "METR = mat_contents['METR'] #movie end TRs\n",
    "fwhmval=5\n",
    "hr_inst = mat_contents['hr_inst'] #movie end TRs\n",
    "mat_fname=nonfmri_dir+'g_o_m2.mat'\n",
    "mat_contents = scipy.io.loadmat(mat_fname)\n",
    "pref = mat_contents['pref'] #movie end TRs\n",
    "\n",
    "print('bids dir = %s' % (ss_bids_dir))\n",
    "print('anat dir = %s' % (anat_dir))\n",
    "print('subject dir = %s' % (bold_dir))\n",
    "print('output dir = %s' % (out_dir))\n",
    "print('number of view runs = %d' % (n_runs_view))\n",
    "print('number of games = %d' % (ss_tngs))\n",
    "print('TR = %s seconds' % (ss_TR))\n",
    "# print('TRs per view run = %s' % (TRs_run_view))\n",
    "print('trim %d volumes from each run' % (n_trunc))\n",
    "\n",
    "print('Game order = %s' % (g_o))\n",
    "print('Movie start times = %s' % (MSTR))\n",
    "print('Movie end times = %s' % (METR))"
   ]
  },
  {
   "cell_type": "code",
   "execution_count": 39,
   "metadata": {
    "scrolled": false
   },
   "outputs": [
    {
     "name": "stdout",
     "output_type": "stream",
     "text": [
      "Number of runs: view 3\n",
      "1277\n",
      "[[1242.]\n",
      " [1224.]\n",
      " [1277.]]\n",
      "1242.0\n"
     ]
    }
   ],
   "source": [
    "#Select confounds and trim volumes from confounds file\n",
    "#Choose the desired confounds from the confounds_regressors.tsv file from fmriprep, \n",
    "#trim the columns corresponding to trimmed volumes, and save as a .txt file. \n",
    "starttime = time.time()\n",
    "confounds=[]\n",
    "confounds_all=[]\n",
    "mc_all=[]\n",
    "ntr=[]\n",
    "ntr=np.zeros((n_runs_view,1))\n",
    "print('Number of runs:', run_names[task_index], n_runs_view)\n",
    "\n",
    "for r in range(firstrun,lastrun+1):\n",
    "    fname='_ses-01_task-view_run-0%i_desc-confounds_regressors.tsv' % (r)\n",
    "    confounds = pd.read_csv(ses1_dir + sub + fname,  sep='\\t', header=(0))\n",
    "    confounds_selected=confounds[['trans_x','trans_y','trans_z','rot_x','rot_y','rot_z','framewise_displacement','a_comp_cor_00','a_comp_cor_01','a_comp_cor_02','a_comp_cor_03','a_comp_cor_04','a_comp_cor_05']][n_trunc:]\n",
    "    confounds_selected=pd.DataFrame(confounds_selected)\n",
    "    confounds_selected.to_csv(out_dir + 'ses-01/' + sub + '_ses-01_task-view_run-0%i_confounds_selected.txt' % r, index=False, sep='\\t', mode='w')\n",
    "    if 0==firstrun:\n",
    "        ntr[r]=confounds_selected.shape[0]\n",
    "    if 1==firstrun:\n",
    "        ntr[r-1]=confounds_selected.shape[0]\n",
    "    if r==firstrun:\n",
    "        confounds_all=confounds_selected\n",
    "    else:\n",
    "        confounds_all=np.vstack([confounds_all,confounds_selected])\n",
    "print(confounds_selected.shape[0])\n",
    "print(ntr)\n",
    "print(sum(ntr[0]))"
   ]
  },
  {
   "cell_type": "markdown",
   "metadata": {},
   "source": [
    "## Create average mask <a id=\"load_fmri\"></a>"
   ]
  },
  {
   "cell_type": "code",
   "execution_count": 40,
   "metadata": {},
   "outputs": [
    {
     "name": "stdout",
     "output_type": "stream",
     "text": [
      "[[   3.    0.    0.  -90.]\n",
      " [   0.    3.    0. -126.]\n",
      " [   0.    0.    3.  -72.]\n",
      " [   0.    0.    0.    1.]]\n"
     ]
    }
   ],
   "source": [
    "#down-size to 3 mm voxels and create average mask\n",
    "mask_imgs=[]\n",
    "for run in range(firstrun,lastrun+1):\n",
    "    mask_name = ses1_dir + sub + '_ses-01_task-view_run-0%i_space-MNI152NLin2009cAsym_desc-brain_mask.nii.gz' % run\n",
    "    mask_imgs.append(mask_name)\n",
    "\n",
    "template = load_mni152_template()\n",
    "i=np.eye(3)*3\n",
    "template =image.resample_img(template, target_affine=i) \n",
    "# intersect 3 view brain masks    \n",
    "avg_mask=intersect_masks(mask_imgs, threshold=0.5, connected=True)\n",
    "avg_mask = resample_to_img(avg_mask, template)\n",
    "thresha=avg_mask.dataobj>-10000\n",
    "thresh=avg_mask.dataobj>0.5\n",
    "avg_mask.dataobj[thresha] = 0\n",
    "avg_mask.dataobj[thresh] = 1\n",
    "dimsize=avg_mask.header.get_zooms()\n",
    "affine_mat = avg_mask.affine\n",
    "print(affine_mat)\n",
    "coords = np.where(avg_mask.get_fdata())"
   ]
  },
  {
   "cell_type": "code",
   "execution_count": 41,
   "metadata": {},
   "outputs": [
    {
     "name": "stdout",
     "output_type": "stream",
     "text": [
      "/jukebox/norman/jantony/surprisesuspense/data/bids/Norman/Antony/ss/derivatives/fmriprep/sub-01/anat/sub-01_space-MNI152NLin2009cAsym_desc-brain_mask.nii.gz\n",
      "/jukebox/norman/jantony/surprisesuspense/data/bids/Norman/Antony/ss/derivatives/firstlevel/sub-01/masks/sub-01_ses-01_brain.nii.gz\n"
     ]
    },
    {
     "data": {
      "image/png": "[encoded data removed]",
      "text/plain": [
       "<matplotlib.figure.Figure at 0x7f64ce3cfdd8>"
      ]
     },
     "metadata": {},
     "output_type": "display_data"
    }
   ],
   "source": [
    "#plot average brain\n",
    "t1_file = anat_fmriprep_dir + sub + '_space-MNI152NLin2009cAsym_desc-brain_mask.nii.gz'\n",
    "print(t1_file)\n",
    "t1_img = image.load_img(t1_file)\n",
    "t1_img = resample_to_img(t1_img, template)\n",
    "if ipynby==1:\n",
    "    plot_roi(avg_mask, bg_img=t1_img)\n",
    "\n",
    "output_name_mask = mask_fold + '%s_%s_brain.nii.gz' % (sub, ses)\n",
    "print(output_name_mask)# Save the mask\n",
    "hdr = avg_mask.header  # get a handle for the .nii file's header\n",
    "hdr.set_zooms((dimsize[0], dimsize[1], dimsize[2]))\n",
    "nib.save(avg_mask, output_name_mask)"
   ]
  },
  {
   "cell_type": "markdown",
   "metadata": {},
   "source": [
    "## Perform spatial smoothing <a id=\"load_fmri\"></a>"
   ]
  },
  {
   "cell_type": "code",
   "execution_count": 42,
   "metadata": {},
   "outputs": [],
   "source": [
    "#function for smoothing\n",
    "def mod_smooth(in_file, mask_file, fwhm, smooth_type):\n",
    "    import nipype.interfaces.fsl as fsl\n",
    "    import nipype.interfaces.freesurfer as fs\n",
    "    import os\n",
    "    if smooth_type == 'susan':\n",
    "        if fwhm == 0:\n",
    "            return in_file\n",
    "        smooth = create_susan_smooth()\n",
    "        smooth.base_dir = out_dir#os.getcwd()\n",
    "        smooth.inputs.inputnode.fwhm = fwhm\n",
    "        smooth.inputs.inputnode.mask_file = mask_file\n",
    "        smooth.inputs.inputnode.in_files = in_file\n",
    "        #smooth.outputs.outputnode.smoothed_files='/jukebox/norman/jantony/surprisesuspense/data/bids/Norman/Antony/ss/derivatives/firstlevel/sub-02/ses-01/sub-02_ses-01_task-view_run-01_space-MNI152NLin2009cAsym_desc-preproc_bold_trim3TRs_smooth.nii.gz'\n",
    "        res = smooth.run()\n",
    "        smoothed_file=[] #smoothed_file = res.outputs.outputnode.smoothed_files\n",
    "    return smoothed_file"
   ]
  },
  {
   "cell_type": "code",
   "execution_count": 43,
   "metadata": {},
   "outputs": [
    {
     "name": "stdout",
     "output_type": "stream",
     "text": [
      "Number of runs to concatenate: 3\n",
      "(61, 73, 61, 1242)    (61, 73, 61, 1239)\n",
      "[[   3.    0.    0.  -90.]\n",
      " [   0.    3.    0. -126.]\n",
      " [   0.    0.    3.  -72.]\n",
      " [   0.    0.    0.    1.]]\n",
      "(61, 73, 61, 1224)    (61, 73, 61, 1221)\n",
      "[[   3.    0.    0.  -90.]\n",
      " [   0.    3.    0. -126.]\n",
      " [   0.    0.    3.  -72.]\n",
      " [   0.    0.    0.    1.]]\n",
      "(61, 73, 61, 1277)    (61, 73, 61, 1274)\n",
      "[[   3.    0.    0.  -90.]\n",
      " [   0.    3.    0. -126.]\n",
      " [   0.    0.    3.  -72.]\n",
      " [   0.    0.    0.    1.]]\n"
     ]
    }
   ],
   "source": [
    "#Load data, resample to 3 mm, truncate, and smooth\n",
    "epi_trunc=[]\n",
    "#source below:\n",
    "#https://github.com/INCF/BrainImagingPipelines/blob/master/bips/workflows/gablab/wips/scripts/modular_nodes.py\n",
    "print('Number of runs to concatenate:', n_runs_view)\n",
    "\n",
    "for run in range(firstrun,lastrun+1):#lastrun+1\n",
    "    out_smooth=(out_dir + 'ses-01/' + '%s_ses-01_task-view_run-0%i_space-MNI152NLin2009cAsym_desc-preproc_bold_trim%d_smooth%d.nii.gz' % (sub, run, n_trunc,fwhmval))\n",
    "    if os.path.exists(out_smooth): #If the file exists, skip this step\n",
    "        proceeeeed=[]\n",
    "\n",
    "        epi_data=nib.load(out_smooth)\n",
    "        epi_data=resample_to_img(epi_data, template)# JWA, August 25 change\n",
    "        epi=epi_data.get_fdata()\n",
    "\n",
    "        #truncate\n",
    "        epi_trunc =np.zeros((epi_data.shape[0], epi_data.shape[1], epi_data.shape[2], epi_data.shape[3]-n_trunc))\n",
    "        epi_trunc[:, :, :, :] = epi[:,:,:,n_trunc:]\n",
    "\n",
    "        print(epi_data.shape, '  ', epi_trunc.shape)\n",
    "        dimsize=epi_data.header.get_zooms()\n",
    "        #print(dimsize)\n",
    "        orig_dimsize=dimsize\n",
    "\n",
    "        affine_mat = epi_data.affine  # What is the orientation of the data\n",
    "        print(affine_mat)\n",
    "    else:\n",
    "        epi_file=ses1_dir + sub + '_ses-01_task-view_run-0%i_space-MNI152NLin2009cAsym_desc-preproc_bold.nii.gz' % run\n",
    "        epi_data=nib.load(epi_file)\n",
    "        epi_data=resample_to_img(epi_data, template)# JWA, August 25 change\n",
    "        epi=epi_data.get_fdata()\n",
    "\n",
    "        #truncate\n",
    "        epi_trunc =np.zeros((epi_data.shape[0], epi_data.shape[1], epi_data.shape[2], epi_data.shape[3]-n_trunc))\n",
    "        epi_trunc[:, :, :, :] = epi[:,:,:,n_trunc:]\n",
    "\n",
    "        print(epi_data.shape, '  ', epi_trunc.shape)\n",
    "        dimsize=epi_data.header.get_zooms()\n",
    "        #print(dimsize)\n",
    "        orig_dimsize=dimsize\n",
    "\n",
    "        affine_mat = epi_data.affine  # What is the orientation of the data\n",
    "        print(affine_mat)\n",
    "\n",
    "        # Save the volume\n",
    "        output_name = (out_dir + 'ses-01/' + '%s_ses-01_task-view_run-0%i_space-MNI152NLin2009cAsym_desc-preproc_bold_trim%dTRs.nii.gz' % (sub, run, n_trunc))\n",
    "\n",
    "        bold_nii = nib.Nifti1Image(epi_trunc, affine_mat)\n",
    "        hdr = bold_nii.header  # get a handle for the .nii file's header\n",
    "        hdr.set_zooms((dimsize[0], dimsize[1], dimsize[2], dimsize[3]))\n",
    "        nib.save(bold_nii, output_name)\n",
    "\n",
    "        # smooth with susan \n",
    "        smoothed_file = mod_smooth(output_name,output_name_mask,fwhmval, 'susan')\n",
    "\n",
    "        #move file\n",
    "        in_smooth=(out_dir+'susan_smooth/smooth/mapflow/_smooth0/' + '%s_ses-01_task-view_run-0%i_space-MNI152NLin2009cAsym_desc-preproc_bold_trim%dTRs_smooth.nii.gz' % (sub, run, n_trunc))\n",
    "        out_smooth=(out_dir + 'ses-01/' + '%s_ses-01_task-view_run-0%i_space-MNI152NLin2009cAsym_desc-preproc_bold_trim%d_smooth%d.nii.gz' % (sub, run, n_trunc,fwhmval))\n",
    "        os.rename(in_smooth,out_smooth)"
   ]
  },
  {
   "cell_type": "markdown",
   "metadata": {},
   "source": [
    "## Load smoothed fMRI data, apply mask, filter, z-score, and regress out confounds <a id=\"load_fmri\"></a>"
   ]
  },
  {
   "cell_type": "markdown",
   "metadata": {},
   "source": [
    "#### Get voxels from an ROI\n",
    "\n",
    "We will extract BOLD data, only for voxels in a mask, by executing the following sequence of steps: \n",
    "1. load whole brain fMRI data (for a given subject and a given run)\n",
    "2. load the desired mask\n",
    "3. use `NiftiMasker` to sub-select mask voxels from the whole brain data\n",
    "    - `NiftiMasker` is a function from nilearn. Here's <a href=\"https://nilearn.github.io/auto_examples/04_manipulating_images/plot_mask_computation.html\">an example</a> about how to use it, and here's the official <a href=\"https://nilearn.github.io/modules/generated/nilearn.input_data.NiftiMasker.html\">documentation</a>. "
   ]
  },
  {
   "cell_type": "code",
   "execution_count": 44,
   "metadata": {
    "scrolled": true
   },
   "outputs": [
    {
     "name": "stdout",
     "output_type": "stream",
     "text": [
      "now on run: 1\n",
      "Saving trimmed and normalized volume for run 1\n",
      "epi_mask_data shape: (61, 73, 61, 1242)\n",
      "now on run: 2\n",
      "Saving trimmed and normalized volume for run 2\n",
      "epi_mask_data shape: (61, 73, 61, 1224)\n",
      "now on run: 3\n",
      "Saving trimmed and normalized volume for run 3\n",
      "epi_mask_data shape: (61, 73, 61, 1277)\n",
      "(3743, 79117)\n",
      "<class 'nibabel.nifti1.Nifti1Image'>\n",
      "data shape (61, 73, 61)\n",
      "affine: \n",
      "[[   3.    0.    0.  -90.]\n",
      " [   0.    3.    0. -126.]\n",
      " [   0.    0.    3.  -72.]\n",
      " [   0.    0.    0.    1.]]\n",
      "metadata:\n",
      "<class 'nibabel.nifti1.Nifti1Header'> object, endian='<'\n",
      "sizeof_hdr      : 348\n",
      "data_type       : b''\n",
      "db_name         : b''\n",
      "extents         : 0\n",
      "session_error   : 0\n",
      "regular         : b''\n",
      "dim_info        : 0\n",
      "dim             : [ 3 61 73 61  1  1  1  1]\n",
      "intent_p1       : 0.0\n",
      "intent_p2       : 0.0\n",
      "intent_p3       : 0.0\n",
      "intent_code     : none\n",
      "datatype        : float32\n",
      "bitpix          : 32\n",
      "slice_start     : 0\n",
      "pixdim          : [1. 3. 3. 3. 1. 1. 1. 1.]\n",
      "vox_offset      : 0.0\n",
      "scl_slope       : nan\n",
      "scl_inter       : nan\n",
      "slice_end       : 0\n",
      "slice_code      : unknown\n",
      "xyzt_units      : 0\n",
      "cal_max         : 0.0\n",
      "cal_min         : 0.0\n",
      "slice_duration  : 0.0\n",
      "toffset         : 0.0\n",
      "glmax           : 0\n",
      "glmin           : 0\n",
      "descrip         : b''\n",
      "aux_file        : b''\n",
      "qform_code      : unknown\n",
      "sform_code      : aligned\n",
      "quatern_b       : 0.0\n",
      "quatern_c       : 0.0\n",
      "quatern_d       : 0.0\n",
      "qoffset_x       : -90.0\n",
      "qoffset_y       : -126.0\n",
      "qoffset_z       : -72.0\n",
      "srow_x          : [  3.   0.   0. -90.]\n",
      "srow_y          : [   0.    3.    0. -126.]\n",
      "srow_z          : [  0.   0.   3. -72.]\n",
      "intent_name     : b''\n",
      "magic           : b'n+1'\n",
      "(3.0, 3.0, 3.0)\n"
     ]
    }
   ],
   "source": [
    "epi_mask_data_all=[]\n",
    "\n",
    "#Load the fMRI data \n",
    "for run in range(firstrun,lastrun+1):\n",
    "    print('now on run:', run)\n",
    "    epi_masker= NiftiMasker(mask_img=avg_mask,  high_pass=1/filtcutoff, #high pass filter\n",
    "        standardize=True,  # Are you going to zscore the data across time? \n",
    "        t_r=ss_TR, \n",
    "        memory='nilearn_cache',  # Caches the mask in the directory given as a string here so that it is easier to load and retrieve\n",
    "        memory_level=1,  # How much memory will you cache?\n",
    "        verbose=0)\n",
    "\n",
    "    # load data and regress out confounds\n",
    "    epi_file=out_dir + 'ses-01/' + '%s_ses-01_task-view_run-0%i_space-MNI152NLin2009cAsym_desc-preproc_bold_trim%d_smooth%d.nii.gz' % (sub, run, n_trunc,fwhmval)\n",
    "    confound_file= bold_dir + 'sub-%s_ses-01_task-view_run-%s_desc-confounds_regressors.tsv' %(sub,run)\n",
    "    if run==firstrun:\n",
    "        if 0==firstrun:\n",
    "            epi_mask_data = epi_masker.fit_transform(epi_file,confounds=confounds_all[0:int(sum(ntr[run])),:]) #commented from Lizzie\n",
    "        if 1==firstrun:\n",
    "            epi_mask_data = epi_masker.fit_transform(epi_file,confounds=confounds_all[0:int(sum(ntr[run-1])),:]) #commented from Lizzie\n",
    "        epi_mask_data_all=epi_mask_data\n",
    "        nTR_all=epi_mask_data.shape[0]\n",
    "    else:\n",
    "        if 0==firstrun:\n",
    "            epi_mask_data = epi_masker.fit_transform(epi_file,confounds=confounds_all[int(sum(ntr[0:run])):int(sum(ntr[0:run+1])),:])\n",
    "        if 1==firstrun:\n",
    "            epi_mask_data = epi_masker.fit_transform(epi_file,confounds=confounds_all[int(sum(ntr[0:run-1])):int(sum(ntr[0:run])),:])\n",
    "        epi_mask_data_all=np.vstack([epi_mask_data_all,epi_mask_data])\n",
    "        nTR_all=np.vstack([nTR_all,epi_mask_data.shape[0]])\n",
    "        \n",
    "    # Save volume\n",
    "    print('Saving trimmed and normalized volume for run',run)\n",
    "    \n",
    "    affine_mat = avg_mask.affine #should be the same as the epi data\n",
    "    avg_mask.shape\n",
    "    coords = np.where(avg_mask.get_fdata())\n",
    "    bold_vol=[]\n",
    "    bold_vol=np.zeros((avg_mask.shape[0], avg_mask.shape[1], avg_mask.shape[2], epi_mask_data.shape[0]))\n",
    "    bold_vol[coords[0], coords[1], coords[2], :] = epi_mask_data.T\n",
    "    print('epi_mask_data shape:', bold_vol.shape)\n",
    "    \n",
    "    output_name = (out_dir + 'ses-01/' + '%s_ses-01_task-view_run-0%i_space-MNI152NLin2009cAsym_desc-preproc_bold_trim%d_norm.nii.gz' % (sub, run, n_trunc))\n",
    "    \n",
    "    bold_nii = nib.Nifti1Image(bold_vol, affine_mat)\n",
    "    hdr = bold_nii.header  # get a handle for the .nii file's header\n",
    "    hdr.set_zooms((orig_dimsize[0], orig_dimsize[1], orig_dimsize[2], orig_dimsize[3]))\n",
    "    nib.save(bold_nii, output_name)\n",
    "        \n",
    "print(epi_mask_data_all.shape)\n",
    "\n",
    "#some basics about dimensions\n",
    "avg_mask.shape\n",
    "coords = np.where(avg_mask.get_fdata())\n",
    "print(avg_mask)\n",
    "dimsize=avg_mask.header.get_zooms()\n",
    "print(dimsize)\n",
    "affine_mat = avg_mask.affine  # orientation of the data"
   ]
  },
  {
   "cell_type": "markdown",
   "metadata": {},
   "source": [
    "## Re-align data in a standardized order <a id=\"load_fmri\"></a>"
   ]
  },
  {
   "cell_type": "code",
   "execution_count": 45,
   "metadata": {},
   "outputs": [
    {
     "name": "stdout",
     "output_type": "stream",
     "text": [
      "(3426, 79117)\n",
      "(3408, 79117)\n",
      "(3743, 13)\n",
      "(3426, 1)\n"
     ]
    }
   ],
   "source": [
    "#load epi_mask_hrf & epi_mask_event matrices with data in a standardize order\n",
    "#and also save relevant variables for later on\n",
    "\n",
    "#pre-assign main arrays in which data will go\n",
    "epi_mask_hrf=np.zeros((d_fl[8,1], epi_mask_data_all.shape[1]))\n",
    "epi_mask_event=np.zeros((event_fl[8,1], epi_mask_data_all.shape[1]))\n",
    "confounds_hrf=np.zeros((d_fl[8,1], confounds_all.shape[1])) #save confounds for later\n",
    "confounds_event=np.zeros((event_fl[8,1], confounds_all.shape[1]))\n",
    "signed_hrf=np.zeros((d_fl[8,1],1)) # used later on for \"signed\" surprise\n",
    "signed_event=np.zeros((event_fl[8,1],1))\n",
    "run_hrf=np.zeros((d_fl[8,1],1)) # keep track of run #\n",
    "run_event=np.zeros((event_fl[8,1],1))\n",
    "print(epi_mask_hrf.shape)\n",
    "print(epi_mask_event.shape)\n",
    "print(confounds_all.shape)\n",
    "print(signed_hrf.shape)\n",
    "\n",
    "# re-order concatenated volumes\n",
    "for game in range(ss_tngs):\n",
    "    #identify game in the order it was shown\n",
    "    g_num=g_o[0,game]\n",
    "    pref_ind=pref[0,game] # subject preferred team to win\n",
    "    slen=event_fl[g_num-1][1]-event_fl[g_num-1][0]+1\n",
    "    seg=np.arange(MSTR[game,0]+startcut-1,MSTR[game,0]+startcut+slen-1,1)\n",
    "    seg=seg+hrshiftval #shift for hrf\n",
    "    slen_d=d_fl[g_num-1][1]-d_fl[g_num-1][0]+1\n",
    "    seg_d=np.arange(MSTR[game,0]+startcut-1,MSTR[game,0]+startcut+slen_d-1,1)\n",
    "    #determine which run it was in\n",
    "    run=np.ceil((game+1)/3)\n",
    "    if firstrun==1: #most subjects\n",
    "        if run==2:\n",
    "            seg=seg+nTR_all[0]\n",
    "            seg_d=seg_d+nTR_all[0]\n",
    "        if run==3:\n",
    "            seg=seg+nTR_all[0]+nTR_all[1]\n",
    "            seg_d=seg_d+nTR_all[0]+nTR_all[1]\n",
    "    else: # subjects 4 and 5\n",
    "        if game==0:\n",
    "            run=0\n",
    "        if run==1:\n",
    "            seg=seg+nTR_all[0]\n",
    "            seg_d=seg_d+nTR_all[0]\n",
    "        if run==2:\n",
    "            seg=seg+nTR_all[0]+nTR_all[1]\n",
    "            seg_d=seg_d+nTR_all[0]+nTR_all[1]\n",
    "        if run==3:\n",
    "            seg=seg+nTR_all[0]+nTR_all[1]+nTR_all[2]\n",
    "            seg_d=seg_d+nTR_all[0]+nTR_all[1]+nTR_all[2]\n",
    "        \n",
    "    epi_mask_hrf[d_fl[g_num-1][0]-1:d_fl[g_num-1][1],:]=epi_mask_data_all[seg_d.astype(int),:]\n",
    "    epi_mask_event[event_fl[g_num-1][0]-1:event_fl[g_num-1][1],:]=epi_mask_data_all[seg.astype(int),:]\n",
    "    confounds_hrf[d_fl[g_num-1][0]-1:d_fl[g_num-1][1],:]=confounds_all[seg_d.astype(int),:]\n",
    "    confounds_event[event_fl[g_num-1][0]-1:event_fl[g_num-1][1],:]=confounds_all[seg.astype(int),:]\n",
    "    run_hrf[d_fl[g_num-1][0]-1:d_fl[g_num-1][1],:]=run\n",
    "    run_event[event_fl[g_num-1][0]-1:event_fl[g_num-1][1],:]=run\n",
    "    #assign signed variable based on preferred winner\n",
    "    if pref_ind==1:\n",
    "        signed_hrf[d_fl[g_num-1][0]-1:d_fl[g_num-1][1],:]=1\n",
    "        signed_event[event_fl[g_num-1][0]-1:event_fl[g_num-1][1],:]=1\n",
    "    if pref_ind==3:\n",
    "        signed_hrf[d_fl[g_num-1][0]-1:d_fl[g_num-1][1],:]=-1\n",
    "        signed_event[event_fl[g_num-1][0]-1:event_fl[g_num-1][1],:]=-1 "
   ]
  },
  {
   "cell_type": "code",
   "execution_count": 46,
   "metadata": {},
   "outputs": [
    {
     "name": "stdout",
     "output_type": "stream",
     "text": [
      "910.0\n",
      "[2466]\n",
      "[3385. 3386. 3387. 3388. 3389. 3390. 3391. 3392. 3393. 3394. 3395. 3396.\n",
      " 3397. 3398. 3399. 3400. 3401. 3402. 3403. 3404. 3405. 3406. 3407. 3408.\n",
      " 3409. 3410. 3411. 3412. 3413. 3414. 3415. 3416. 3417. 3418. 3419. 3420.\n",
      " 3421. 3422. 3423. 3424. 3425. 3426. 3427. 3428. 3429. 3430. 3431. 3432.\n",
      " 3433. 3434. 3435. 3436. 3437. 3438. 3439. 3440. 3441. 3442. 3443. 3444.\n",
      " 3445. 3446. 3447. 3448. 3449. 3450. 3451. 3452. 3453. 3454. 3455. 3456.\n",
      " 3457. 3458. 3459. 3460. 3461. 3462. 3463. 3464. 3465. 3466. 3467. 3468.\n",
      " 3469. 3470. 3471. 3472. 3473. 3474. 3475. 3476. 3477. 3478. 3479. 3480.\n",
      " 3481. 3482. 3483. 3484. 3485. 3486. 3487. 3488. 3489. 3490. 3491. 3492.\n",
      " 3493. 3494. 3495. 3496. 3497. 3498. 3499. 3500. 3501. 3502. 3503. 3504.\n",
      " 3505. 3506. 3507. 3508. 3509. 3510. 3511. 3512. 3513. 3514. 3515. 3516.\n",
      " 3517. 3518. 3519. 3520. 3521. 3522. 3523. 3524. 3525. 3526. 3527. 3528.\n",
      " 3529. 3530. 3531. 3532. 3533. 3534. 3535. 3536. 3537. 3538. 3539. 3540.\n",
      " 3541. 3542. 3543. 3544. 3545. 3546. 3547. 3548. 3549. 3550. 3551. 3552.\n",
      " 3553. 3554. 3555. 3556. 3557. 3558. 3559. 3560. 3561. 3562. 3563. 3564.\n",
      " 3565. 3566. 3567. 3568. 3569. 3570. 3571. 3572. 3573. 3574. 3575. 3576.\n",
      " 3577. 3578. 3579. 3580. 3581. 3582. 3583. 3584. 3585. 3586. 3587. 3588.\n",
      " 3589. 3590. 3591. 3592. 3593. 3594. 3595. 3596. 3597. 3598. 3599. 3600.\n",
      " 3601. 3602. 3603. 3604. 3605. 3606. 3607. 3608. 3609. 3610. 3611. 3612.\n",
      " 3613. 3614. 3615. 3616. 3617. 3618. 3619. 3620. 3621. 3622. 3623. 3624.\n",
      " 3625. 3626. 3627. 3628. 3629. 3630. 3631. 3632. 3633. 3634. 3635. 3636.\n",
      " 3637. 3638. 3639. 3640. 3641. 3642. 3643. 3644. 3645. 3646. 3647. 3648.\n",
      " 3649. 3650. 3651. 3652. 3653. 3654. 3655. 3656. 3657. 3658. 3659. 3660.\n",
      " 3661. 3662. 3663. 3664. 3665. 3666. 3667. 3668. 3669. 3670. 3671. 3672.\n",
      " 3673. 3674. 3675. 3676. 3677. 3678. 3679. 3680. 3681. 3682. 3683. 3684.\n",
      " 3685. 3686. 3687. 3688. 3689. 3690. 3691. 3692. 3693. 3694. 3695. 3696.\n",
      " 3697. 3698. 3699. 3700. 3701. 3702. 3703. 3704. 3705. 3706. 3707. 3708.\n",
      " 3709. 3710. 3711. 3712. 3713. 3714. 3715. 3716. 3717. 3718. 3719. 3720.\n",
      " 3721. 3722.]\n",
      "338\n"
     ]
    }
   ],
   "source": [
    "# check out some other variables\n",
    "print(MSTR[game,0])\n",
    "print(nTR_all[0]+nTR_all[1])\n",
    "print(seg_d)\n",
    "print(slen_d)"
   ]
  },
  {
   "cell_type": "code",
   "execution_count": 47,
   "metadata": {},
   "outputs": [
    {
     "data": {
      "image/png": "[encoded data removed]",
      "text/plain": [
       "<matplotlib.figure.Figure at 0x7f64ce23ff28>"
      ]
     },
     "metadata": {},
     "output_type": "display_data"
    },
    {
     "data": {
      "image/png": "[encoded data removed]",
      "text/plain": [
       "<matplotlib.figure.Figure at 0x7f641900c898>"
      ]
     },
     "metadata": {},
     "output_type": "display_data"
    }
   ],
   "source": [
    "#apply frame-wise displacement threshold and create related variables \n",
    "fwdthresh=0.33\n",
    "fwdhigh_hrf=np.zeros((d_fl[8,1],1))\n",
    "for tr in range(1,d_fl[8,1]):\n",
    "    if confounds_hrf[tr,6]>fwdthresh:\n",
    "        fwdhigh_hrf[tr]=1\n",
    "fwdhigh_event=np.zeros((event_fl[8,1],1))\n",
    "for tr in range(1,event_fl[8,1]):\n",
    "    if confounds_event[tr,6]>fwdthresh:\n",
    "        fwdhigh_event[tr]=1\n",
    "\n",
    "if ipynby==1: #plot these results\n",
    "    f, ax = plt.subplots(1,1, figsize=(14,5))\n",
    "    ax.plot(confounds_hrf[:,6])\n",
    "    ax.set_title('Framewise displacement')\n",
    "    ax.set_xlabel('TR (ordered by game #)')\n",
    "    ax.set_ylabel('FWD')\n",
    "    f, ax = plt.subplots(1,1, figsize=(14,5))\n",
    "    ax.plot(fwdhigh_hrf)\n",
    "    ax.set_title('Framewise displacement above %s?' %fwdthresh)\n",
    "    ax.set_xlabel('TR (ordered by game #)')\n",
    "    ax.set_ylabel('FWD>%s?' %fwdthresh)"
   ]
  },
  {
   "cell_type": "code",
   "execution_count": 48,
   "metadata": {},
   "outputs": [
    {
     "name": "stdout",
     "output_type": "stream",
     "text": [
      "(3426, 13)\n",
      "(3426, 15)\n",
      "(3408, 13)\n",
      "(3408, 15)\n",
      "(3426, 79117)\n"
     ]
    }
   ],
   "source": [
    "#append frame-wise displacement variable to confound regressors\n",
    "print(confounds_hrf.shape)\n",
    "confounds_hrf=np.hstack([confounds_hrf,run_hrf])\n",
    "confounds_hrf=np.hstack([confounds_hrf,fwdhigh_hrf])\n",
    "print(confounds_hrf.shape)\n",
    "print(confounds_event.shape)\n",
    "confounds_event=np.hstack([confounds_event,run_event])\n",
    "confounds_event=np.hstack([confounds_event,fwdhigh_event])\n",
    "print(confounds_event.shape)\n",
    "#Was previously Z-scoring here, but changed to doing it at input\n",
    "epi_mask_hrf2=epi_mask_hrf\n",
    "epi_mask_event2=epi_mask_event\n",
    "#epi_mask_hrf2=stats.zscore(epi_mask_hrf,axis=0)\n",
    "#epi_mask_event2=stats.zscore(epi_mask_event,axis=0)\n",
    "print(epi_mask_hrf2.shape)"
   ]
  },
  {
   "cell_type": "code",
   "execution_count": 49,
   "metadata": {},
   "outputs": [
    {
     "name": "stdout",
     "output_type": "stream",
     "text": [
      "(3426, 15)\n",
      "(3426, 15)\n"
     ]
    },
    {
     "data": {
      "image/png": "[encoded data removed]",
      "text/plain": [
       "<matplotlib.figure.Figure at 0x7f64ce335320>"
      ]
     },
     "metadata": {},
     "output_type": "display_data"
    }
   ],
   "source": [
    "#rescale regressors\n",
    "def rescale(x):\n",
    "    tmin=np.min(x)\n",
    "    tmax=np.max(x)\n",
    "    trange=tmax-tmin\n",
    "    tmid=tmin+trange/2\n",
    "    x=(x-tmid)/(trange/2)\n",
    "    return x\n",
    "\n",
    "confounds_hrf2=[]\n",
    "confounds_hrf2=np.zeros((confounds_hrf.shape[0],confounds_hrf.shape[1]))\n",
    "for confound in range(0,confounds_hrf.shape[1]):\n",
    "    confounds_hrf2[:,confound]=rescale(confounds_hrf[:,confound])\n",
    "print(confounds_hrf.shape)\n",
    "print(confounds_hrf2.shape)\n",
    "\n",
    "#save confounds_hrf2 as .mat\n",
    "#mat_fname=nonfmri_dir+'confounds_hrf3_%s.mat' %hrshiftval\n",
    "mat_fname=nonfmri_dir+'confounds_hrf2_%s.mat' %hrshiftval\n",
    "scipy.io.savemat(mat_fname,{'confounds_hrf2': confounds_hrf2,'confounds_hrf': confounds_hrf,\n",
    "                            'fwdhigh_hrf': fwdhigh_hrf,'nTR_all': nTR_all,\n",
    "                            'signed_hrf': signed_hrf,'signed_event': signed_event,\n",
    "                           'confounds_event': confounds_event,'fwdhigh_event': fwdhigh_event})\n",
    "\n",
    "if ipynby==1: # plot confidence matrix\n",
    "    plt.figure(figsize=(16,10))\n",
    "    this_img = confounds_hrf2; \n",
    "    plt.imshow(this_img,cmap='gray',origin='lower',interpolation='none',aspect=\"auto\")"
   ]
  },
  {
   "cell_type": "code",
   "execution_count": 50,
   "metadata": {},
   "outputs": [
    {
     "name": "stdout",
     "output_type": "stream",
     "text": [
      "(61, 73, 61, 3426)\n",
      "(61, 73, 61, 3408)\n",
      "(61, 73, 61)\n"
     ]
    }
   ],
   "source": [
    "# prepare volumes to save\n",
    "bold_vol=np.zeros((avg_mask.shape[0], avg_mask.shape[1], avg_mask.shape[2], epi_mask_hrf2.shape[0]))\n",
    "bold_vol[coords[0], coords[1], coords[2], :] = epi_mask_hrf2.T\n",
    "bold_vol_event=np.zeros((avg_mask.shape[0], avg_mask.shape[1], avg_mask.shape[2], epi_mask_event2.shape[0]))\n",
    "bold_vol_event[coords[0], coords[1], coords[2], :] = epi_mask_event2.T\n",
    "print(bold_vol.shape)\n",
    "print(bold_vol_event.shape)\n",
    "print(avg_mask.shape)"
   ]
  },
  {
   "cell_type": "code",
   "execution_count": 51,
   "metadata": {},
   "outputs": [
    {
     "name": "stdout",
     "output_type": "stream",
     "text": [
      "/jukebox/norman/jantony/surprisesuspense/data/bids/Norman/Antony/ss/derivatives/firstlevel/sub-01/sub-01_task-view_space-MNI152NLin2009cAsym_desc-preproc_bold_trim3_5_128_norm_glm.nii.gz\n",
      "(3.0, 3.0, 3.0, 1.0)\n",
      "Volume saved\n",
      "/jukebox/norman/jantony/surprisesuspense/data/bids/Norman/Antony/ss/derivatives/firstlevel/sub-01/sub-01_task-view_space-MNI152NLin2009cAsym_desc-preproc_bold_trim3_5_128_norm_event.nii.gz\n",
      "(3.0, 3.0, 3.0, 1.0)\n",
      "Volume saved\n",
      "482.903208732605\n"
     ]
    }
   ],
   "source": [
    "# Save the concatenated volumes, both glm and event files\n",
    "output_name = out_dir + '%s_task-view_space-MNI152NLin2009cAsym_desc-preproc_bold_trim%d_%s_%s_norm_glm.nii.gz' % (sub, n_trunc,hrshiftval,filtcutoff)\n",
    "print(output_name)\n",
    "bold_nii = nib.Nifti1Image(bold_vol, affine_mat)\n",
    "hdr = bold_nii.header  # get a handle for the .nii file's header\n",
    "print(orig_dimsize)\n",
    "hdr.set_zooms((orig_dimsize[0], orig_dimsize[1], orig_dimsize[2], orig_dimsize[3]))\n",
    "nib.save(bold_nii, output_name)\n",
    "print('Volume saved')\n",
    "#event file\n",
    "output_name = out_dir + '%s_task-view_space-MNI152NLin2009cAsym_desc-preproc_bold_trim%d_%s_%s_norm_event.nii.gz' % (sub, n_trunc,hrshiftval,filtcutoff)\n",
    "print(output_name)\n",
    "bold_nii = nib.Nifti1Image(bold_vol_event, affine_mat)\n",
    "hdr = bold_nii.header  # get a handle for the .nii file's header\n",
    "print(orig_dimsize)\n",
    "hdr.set_zooms((orig_dimsize[0], orig_dimsize[1], orig_dimsize[2], orig_dimsize[3]))\n",
    "nib.save(bold_nii, output_name)\n",
    "print('Volume saved')\n",
    "endtime = time.time()\n",
    "print(endtime - starttime)"
   ]
  },
  {
   "cell_type": "markdown",
   "metadata": {},
   "source": [
    "# Visualizations\n",
    "## Plot voxels across runs in game order"
   ]
  },
  {
   "cell_type": "code",
   "execution_count": null,
   "metadata": {},
   "outputs": [],
   "source": [
    "#estimate autocorrelation - not currently used\n",
    "'''\n",
    "def estimated_autocorrelation(x):\n",
    "    \"\"\"\n",
    "    http://stackoverflow.com/q/14297012/190597\n",
    "    http://en.wikipedia.org/wiki/Autocorrelation#Estimation\n",
    "    \"\"\"\n",
    "    n = len(x)\n",
    "    variance = x.var()\n",
    "    x = x-x.mean()\n",
    "    r = np.correlate(x, x, mode = 'full')[-n:]\n",
    "    assert np.allclose(r, np.array([(x[:n-k]*x[-(n-k):]).sum() for k in range(n)]))\n",
    "    result = r/(variance*(np.arange(n, 0, -1)))\n",
    "    return result\n",
    "\n",
    "voxel_id=17891\n",
    "a1=estimated_autocorrelation(epi_mask_hrf2[:, voxel_id])\n",
    "print(a1.shape)\n",
    "pts=20\n",
    "if ipynby==1:\n",
    "    f, ax = plt.subplots(1,1, figsize=(14,5))\n",
    "    ax.plot(a1[0:pts])'''"
   ]
  },
  {
   "cell_type": "code",
   "execution_count": null,
   "metadata": {},
   "outputs": [],
   "source": [
    "#here are some plots visualizing the data. nothing else is saved after this.\n",
    "if ipynby==1:\n",
    "    n_vox=20000\n",
    "    plt.figure(figsize=(10,16))\n",
    "    this_img = epi_mask_hrf2[:,:n_vox]; \n",
    "    this_img=this_img.T;#must transform because of how Python reshapes\n",
    "    tn='HRF-%s' %sub;\n",
    "    plt.imshow(this_img,cmap='gray',origin='lower',interpolation='none',aspect=\"auto\")\n",
    "    plt.title(tn)"
   ]
  },
  {
   "cell_type": "code",
   "execution_count": null,
   "metadata": {},
   "outputs": [],
   "source": [
    "if ipynby==1:\n",
    "    for run in range(1,n_runs_view+1):\n",
    "        func_name=out_dir + 'ses-01/' + '%s_ses-01_task-view_run-0%i_space-MNI152NLin2009cAsym_desc-preproc_bold_trim%d_norm.nii.gz' % (sub, run, n_trunc)\n",
    "\n",
    "        #print(image.load_img(func_name).shape)\n",
    "        vol_num=round(image.load_img(func_name).shape[3]/2)\n",
    "        middle_vol = image.index_img(func_name,vol_num)\n",
    "        #mean_func = mean_img(func_name)\n",
    "        print('Plotting middle volumed for run',run)\n",
    "        plot_epi(middle_vol)"
   ]
  },
  {
   "cell_type": "markdown",
   "metadata": {},
   "source": [
    "## Plot a voxel time-series <a id=\"plot_voxel\"></a>"
   ]
  },
  {
   "cell_type": "code",
   "execution_count": null,
   "metadata": {
    "scrolled": true
   },
   "outputs": [],
   "source": [
    "# Plot value of voxel_id through time \n",
    "if ipynby==1:\n",
    "    voxel_id = 2000\n",
    "    f, ax = plt.subplots(1,1, figsize=(14,5))\n",
    "    ax.plot(epi_mask_hrf[0:200, voxel_id])\n",
    "    ax.set_title('Voxel time series, voxel id = %d' % voxel_id)\n",
    "    ax.set_xlabel('TR (ordered by game #)')\n",
    "    ax.set_ylabel('Voxel Intensity')\n",
    "    f, ax = plt.subplots(1,1, figsize=(14,5))\n",
    "    ax.plot(epi_mask_hrf2[0:200, voxel_id])\n",
    "    ax.set_title('Voxel time series, voxel id = %d' % voxel_id)\n",
    "    ax.set_xlabel('TR (ordered by game #)')\n",
    "    ax.set_ylabel('Voxel Intensity-normed')"
   ]
  },
  {
   "cell_type": "markdown",
   "metadata": {},
   "source": [
    "## Check mean and standard deviation of normalized data "
   ]
  },
  {
   "cell_type": "code",
   "execution_count": null,
   "metadata": {
    "scrolled": false
   },
   "outputs": [],
   "source": [
    "#If the data are Z-scored, these should obviously look very standardized.\n",
    "if ipynby==1:\n",
    "    x_mean = np.mean(epi_mask_hrf2, axis=0)\n",
    "    x_std = np.std(epi_mask_hrf2, axis=0, dtype=np.float64)\n",
    "    print('mean of 1st few time points:\\n', x_mean[0:50])\n",
    "    print('')\n",
    "    print('std of 1st few time points:\\n', x_std[0:50])\n",
    "    print('')\n",
    "    print(np.shape(x_mean))\n",
    "    print(np.shape(x_std))\n",
    "    print('')\n",
    "    print(np.amin(x_mean), np.amax(x_mean))\n",
    "    print(np.amin(x_std), np.amax(x_std))\n",
    "    # print(x_std)\n",
    "\n",
    "    f, axes = plt.subplots(1, 2, figsize = (14,4))\n",
    "    n_bins = 20\n",
    "    axes[0].hist(x_mean, bins = n_bins)\n",
    "    axes[0].set_title('distribution of means')\n",
    "    axes[0].set_xlabel('mean values')\n",
    "    axes[0].set_ylabel('counts')\n",
    "    axes[0].xaxis.set_major_locator(plt.MaxNLocator(3))\n",
    "    axes[1].hist(x_std, bins = n_bins)\n",
    "    axes[1].set_title('distribution of stds')\n",
    "    axes[1].set_xlabel('std values')\n",
    "    axes[1].set_ylabel('counts')\n",
    "    axes[1].xaxis.set_major_locator(plt.MaxNLocator(3))\n",
    "    axes[1].get_xaxis().get_major_formatter().set_useOffset(False)\n",
    "    plt.show()"
   ]
  },
  {
   "cell_type": "code",
   "execution_count": null,
   "metadata": {},
   "outputs": [],
   "source": []
  }
 ],
 "metadata": {
  "anaconda-cloud": {},
  "celltoolbar": "Edit Metadata",
  "kernelspec": {
   "display_name": "Python 3",
   "language": "python",
   "name": "python3"
  },
  "language_info": {
   "codemirror_mode": {
    "name": "ipython",
    "version": 3
   },
   "file_extension": ".py",
   "mimetype": "text/x-python",
   "name": "python",
   "nbconvert_exporter": "python",
   "pygments_lexer": "ipython3",
   "version": "3.7.6"
  }
 },
 "nbformat": 4,
 "nbformat_minor": 2
}
