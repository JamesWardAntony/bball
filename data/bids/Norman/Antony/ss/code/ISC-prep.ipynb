{
 "cells": [
  {
   "cell_type": "code",
   "execution_count": 81,
   "metadata": {},
   "outputs": [
    {
     "name": "stdout",
     "output_type": "stream",
     "text": [
      "sub-06\n"
     ]
    }
   ],
   "source": [
    "ipynby=1 #python notebook or not\n",
    "neu350=0\n",
    "if ipynby==0:\n",
    "    import argparse\n",
    "    parser = argparse.ArgumentParser()\n",
    "    parser.add_argument('-subject', type=str)\n",
    "    args = parser.parse_args()\n",
    "    print(args.subject)\n",
    "    subject=args.subject\n",
    "    neu350=0\n",
    "if ipynby==1:\n",
    "    subject=6\n",
    "if len(str(subject))==1:\n",
    "    sub ='sub-0'+str(subject)\n",
    "else:\n",
    "    sub ='sub-'+str(subject)\n",
    "subS = str(int(subject))\n",
    "subs=['01','02','03','04','05','06','07','08','09','10','11','12','13','14','15','16','17','18','19','20']#\n",
    "ses = 'ses-01'\n",
    "task='view'\n",
    "n_trunc=3 # Number of volumes to trim/truncate\n",
    "hrshiftval=5\n",
    "filtcutoff=128 #high-pass filter\n",
    "print(sub)"
   ]
  },
  {
   "cell_type": "code",
   "execution_count": 82,
   "metadata": {},
   "outputs": [
    {
     "data": {
      "application/javascript": [
       "IPython.notebook.set_autosave_interval(5000)"
      ]
     },
     "metadata": {},
     "output_type": "display_data"
    },
    {
     "name": "stdout",
     "output_type": "stream",
     "text": [
      "Autosaving every 5 seconds\n"
     ]
    }
   ],
   "source": [
    "import warnings\n",
    "import sys \n",
    "if not sys.warnoptions:\n",
    "    warnings.simplefilter(\"ignore\")\n",
    "import os \n",
    "import glob\n",
    "import time\n",
    "from copy import deepcopy\n",
    "import numpy as np\n",
    "import pandas as pd \n",
    "\n",
    "from nilearn import datasets\n",
    "from nilearn import surface\n",
    "from nilearn import plotting\n",
    "from nilearn import image\n",
    "from nilearn.masking import intersect_masks\n",
    "from nilearn.input_data import NiftiMasker, NiftiLabelsMasker\n",
    "import nibabel as nib\n",
    "import scipy.io\n",
    "from brainiak import image, io\n",
    "import matplotlib.pyplot as plt\n",
    "import seaborn as sns \n",
    "import matplotlib.pyplot as plt \n",
    "if ipynby==1:\n",
    "    %autosave 5\n",
    "    %matplotlib inline\n",
    "    sns.set(style = 'white', context='talk', font_scale=1, rc={\"lines.linewidth\": 2})"
   ]
  },
  {
   "cell_type": "code",
   "execution_count": 83,
   "metadata": {},
   "outputs": [
    {
     "name": "stdout",
     "output_type": "stream",
     "text": [
      "/jukebox/norman/jantony/surprisesuspense/data/bids/Norman/Antony/ss/derivatives/firstlevel/sub-06/\n"
     ]
    }
   ],
   "source": [
    "from ss_utils import ss_dir, ss_bids_dir, ss_TR, ss_hrf_lag, run_names, n_runs\n",
    "#mask_name=ss_bids_dir+'derivatives/freesurfer/fsaverage/mri/brainmask.mgz'\n",
    "results_path=ss_bids_dir+'derivatives/secondlevel/'\n",
    "firstlevel_dir=ss_bids_dir+'derivatives/firstlevel/'\n",
    "firstlevel_sub_dir=ss_bids_dir+'derivatives/firstlevel/%s/' %(sub)\n",
    "print(firstlevel_sub_dir)\n",
    "analysis_dir=ss_dir+'analysis/'\n",
    "mat_fname=analysis_dir+'d_event_mat.mat'\n",
    "mat_contents = scipy.io.loadmat(mat_fname)\n",
    "event_mat = mat_contents['event_mat'] #this matrix has the suspense bins for every TR\n",
    "event_mat2 = mat_contents['event_mat2'] #this matrix has the suspense bins for every TR\n",
    "\n",
    "orig_task_name = ['view']\n",
    "ses='ses-01'\n",
    "nS=20\n",
    "tngs=9\n",
    "dir_out = results_path + 'isc/'\n",
    "if not os.path.exists(dir_out):\n",
    "    os.makedirs(dir_out)\n",
    "    print('Dir %s created ' % dir_out)"
   ]
  },
  {
   "cell_type": "code",
   "execution_count": 84,
   "metadata": {},
   "outputs": [],
   "source": [
    "def get_file_names(sub_,data_dir_,n_trunc_,hrshiftval_,filtcutoff_, verbose = False):\n",
    "    \"\"\"\n",
    "    Get all the participant file names\n",
    "    \n",
    "    Parameters\n",
    "    ----------\n",
    "    data_dir_ [str]: the data root dir\n",
    "    task_name_ [str]: the name of the task \n",
    "    \n",
    "    Return\n",
    "    ----------\n",
    "    fnames_ [list]: file names for all subjs\n",
    "    \"\"\" \n",
    "    c_ = 0 \n",
    "    fnames_ = []\n",
    "    fname = os.path.join(\n",
    "        data_dir_, '%s/%s_task-view_space-MNI152NLin2009cAsym_desc-preproc_bold_trim%d_%s_%s_norm_event.nii.gz' % (sub_, sub_,n_trunc_,hrshiftval_,filtcutoff_))\n",
    "    print(fname)\n",
    "    # If the file exists\n",
    "    if os.path.exists(fname):\n",
    "        #print('Exists!')\n",
    "        # Add to the list of file names \n",
    "        fnames_.append(fname)\n",
    "        if verbose: \n",
    "            print(fname)\n",
    "        c_+= 1\n",
    "    return fnames_"
   ]
  },
  {
   "cell_type": "code",
   "execution_count": 85,
   "metadata": {},
   "outputs": [],
   "source": [
    "dv=2\n",
    "inch=3\n",
    "#find avg brain mask across subjects!\n",
    "mask_imgs=[]\n",
    "for s in range(nS): \n",
    "    subj=subs[s]\n",
    "    if len(str(subj))==1:\n",
    "        subj1 ='sub-0'+str(subj)\n",
    "    else:\n",
    "        subj1 ='sub-'+str(subj)\n",
    "    mask_fold = ss_bids_dir + 'derivatives/firstlevel/%s/masks/' % subj1\n",
    "    mask_name = mask_fold + '%s_%s_brain.nii.gz' % (subj1, ses)\n",
    "    mask_imgs.append(mask_name)\n",
    "    brain_mask1 = io.load_boolean_mask(mask_name)"
   ]
  },
  {
   "cell_type": "code",
   "execution_count": 86,
   "metadata": {},
   "outputs": [
    {
     "name": "stdout",
     "output_type": "stream",
     "text": [
      "/jukebox/norman/jantony/surprisesuspense/data/bids/Norman/Antony/ss/derivatives/secondlevel/avg_brain_mask.nii.gz\n",
      "(3.0, 3.0, 3.0)\n",
      "[[   3.    0.    0.  -90.]\n",
      " [   0.    3.    0. -126.]\n",
      " [   0.    0.    3.  -72.]\n",
      " [   0.    0.    0.    1.]]\n",
      "(61, 73, 61)\n",
      "(61, 73, 61)\n"
     ]
    }
   ],
   "source": [
    "# intersect 3 view brain masks    \n",
    "avg_mask=intersect_masks(mask_imgs, threshold=0.5, connected=True)\n",
    "#save x-sub avg mask\n",
    "avg_mask_name = results_path + 'avg_brain_mask.nii.gz'\n",
    "print(avg_mask_name)\n",
    "dimsize=avg_mask.header.get_zooms()\n",
    "affine_mat = avg_mask.affine\n",
    "print(dimsize)\n",
    "print(affine_mat)\n",
    "hdr = avg_mask.header  # get a handle for the .nii file's header\n",
    "hdr.set_zooms((dimsize[0], dimsize[1], dimsize[2]))\n",
    "nib.save(avg_mask, avg_mask_name)\n",
    "print(avg_mask.shape)\n",
    "\n",
    "#load in mask as boolean\n",
    "brain_mask = io.load_boolean_mask(avg_mask_name)# Load the brain mask\n",
    "coords = np.where(brain_mask)# Get the list of nonzero voxel coordinates\n",
    "brain_nii = nib.load(avg_mask_name)# Load the brain nii image\n",
    "print(brain_nii.shape)"
   ]
  },
  {
   "cell_type": "code",
   "execution_count": 87,
   "metadata": {},
   "outputs": [
    {
     "name": "stdout",
     "output_type": "stream",
     "text": [
      "/jukebox/norman/jantony/surprisesuspense/data/bids/Norman/Antony/ss/derivatives/firstlevel/sub-06/sub-06_task-view_space-MNI152NLin2009cAsym_desc-preproc_bold_trim3_5_128_norm_event.nii.gz\n",
      "1\n",
      "Data loaded: view \t shape: (3408, 76590, 1)\n",
      "(61, 73, 61, 3408)\n",
      "/jukebox/norman/jantony/surprisesuspense/data/bids/Norman/Antony/ss/derivatives/firstlevel/sub-06/sub-06_task-view_sb0_trim3_5_128.nii.gz\n",
      "(3.0, 3.0, 3.0)\n"
     ]
    }
   ],
   "source": [
    "# load the functional data \n",
    "fnames = {}\n",
    "images = {}\n",
    "masked_images = {}\n",
    "bold = {}\n",
    "group_assignment = []\n",
    "n_subjs = {}\n",
    "\n",
    "for task_name in orig_task_name: \n",
    "    fnames[task_name] = get_file_names(sub,firstlevel_dir,n_trunc,hrshiftval,filtcutoff)\n",
    "    images[task_name] = io.load_images(fnames[task_name]) \n",
    "    #print(images[task_name])\n",
    "   # images[task_name] = images[task_name].T #?? \n",
    "    masked_images[task_name] = image.mask_images(images[task_name], brain_mask) \n",
    "    #print(masked_images[task_name])\n",
    "    # Concatenate all of the masked images across participants  \n",
    "    bold[task_name] = image.MaskedMultiSubjectData.from_masked_images(\n",
    "        masked_images[task_name], len(fnames[task_name]))\n",
    "    if neu350==1:\n",
    "        bold[task_name]=np.transpose(bold[task_name], [1,0,2])\n",
    "        print(bold[task_name].shape)\n",
    "    print(len(fnames[task_name]))\n",
    "    # Convert nans into zeros\n",
    "    bold[task_name][np.isnan(bold[task_name])] = 0\n",
    "    print('Data loaded: {} \\t shape: {}' .format(task_name, np.shape(bold[task_name])))\n",
    "    bold_vol_event=[]\n",
    "    bold_vol_event=np.zeros((avg_mask.shape[0], avg_mask.shape[1], avg_mask.shape[2], bold[task_name].shape[0]))\n",
    "    bold_vol_event[coords[0], coords[1], coords[2], :] = bold[task_name].T\n",
    "    print(bold_vol_event.shape)\n",
    "    output_name = firstlevel_sub_dir + '%s_task-view_sb0_trim%d_%s_%s.nii.gz' % (sub,n_trunc,hrshiftval,filtcutoff)\n",
    "    print(output_name)\n",
    "    bold_nii = nib.Nifti1Image(bold_vol_event, affine_mat)\n",
    "    hdr = bold_nii.header  # get a handle for the .nii file's header\n",
    "    print(dimsize)\n",
    "    hdr.set_zooms((dimsize[0], dimsize[1], dimsize[2],1))\n",
    "    nib.save(bold_nii, output_name)"
   ]
  },
  {
   "cell_type": "code",
   "execution_count": 88,
   "metadata": {},
   "outputs": [
    {
     "name": "stdout",
     "output_type": "stream",
     "text": [
      "[False False False ... False False False]\n",
      "(0, 76590, 1)\n",
      "(61, 73, 61, 0)\n",
      "/jukebox/norman/jantony/surprisesuspense/data/bids/Norman/Antony/ss/derivatives/firstlevel/sub-06/sub-06_task-view_sb1_trim3_5_128.nii.gz\n",
      "(3.0, 3.0, 3.0)\n",
      "[False False False ... False False False]\n",
      "(0, 76590, 1)\n",
      "(61, 73, 61, 0)\n",
      "/jukebox/norman/jantony/surprisesuspense/data/bids/Norman/Antony/ss/derivatives/firstlevel/sub-06/sub-06_task-view_sb2_trim3_5_128.nii.gz\n",
      "(3.0, 3.0, 3.0)\n",
      "[False False False ... False False False]\n",
      "(0, 76590, 1)\n",
      "(61, 73, 61, 0)\n",
      "/jukebox/norman/jantony/surprisesuspense/data/bids/Norman/Antony/ss/derivatives/firstlevel/sub-06/sub-06_task-view_sb3_trim3_5_128.nii.gz\n",
      "(3.0, 3.0, 3.0)\n",
      "[False False False ... False False False]\n",
      "(0, 76590, 1)\n",
      "(61, 73, 61, 0)\n",
      "/jukebox/norman/jantony/surprisesuspense/data/bids/Norman/Antony/ss/derivatives/firstlevel/sub-06/sub-06_task-view_sb4_trim3_5_128.nii.gz\n",
      "(3.0, 3.0, 3.0)\n",
      "[False False False ... False False False]\n",
      "(0, 76590, 1)\n",
      "(61, 73, 61, 0)\n",
      "/jukebox/norman/jantony/surprisesuspense/data/bids/Norman/Antony/ss/derivatives/firstlevel/sub-06/sub-06_task-view_sb5_trim3_5_128.nii.gz\n",
      "(3.0, 3.0, 3.0)\n",
      "[False False False ... False False False]\n",
      "(0, 76590, 1)\n",
      "(61, 73, 61, 0)\n",
      "/jukebox/norman/jantony/surprisesuspense/data/bids/Norman/Antony/ss/derivatives/firstlevel/sub-06/sub-06_task-view_sb6_trim3_5_128.nii.gz\n",
      "(3.0, 3.0, 3.0)\n",
      "[False False False ... False False False]\n",
      "(0, 76590, 1)\n",
      "(61, 73, 61, 0)\n",
      "/jukebox/norman/jantony/surprisesuspense/data/bids/Norman/Antony/ss/derivatives/firstlevel/sub-06/sub-06_task-view_sb7_trim3_5_128.nii.gz\n",
      "(3.0, 3.0, 3.0)\n",
      "[False False False ... False False False]\n",
      "(0, 76590, 1)\n",
      "(61, 73, 61, 0)\n",
      "/jukebox/norman/jantony/surprisesuspense/data/bids/Norman/Antony/ss/derivatives/firstlevel/sub-06/sub-06_task-view_sb8_trim3_5_128.nii.gz\n",
      "(3.0, 3.0, 3.0)\n",
      "[False False False ... False False False]\n",
      "(0, 76590, 1)\n",
      "(61, 73, 61, 0)\n",
      "/jukebox/norman/jantony/surprisesuspense/data/bids/Norman/Antony/ss/derivatives/firstlevel/sub-06/sub-06_task-view_sb9_trim3_5_128.nii.gz\n",
      "(3.0, 3.0, 3.0)\n",
      "[False False False ...  True  True  True]\n",
      "(210, 76590, 1)\n",
      "(61, 73, 61, 210)\n",
      "/jukebox/norman/jantony/surprisesuspense/data/bids/Norman/Antony/ss/derivatives/firstlevel/sub-06/sub-06_task-view_sb10_trim3_5_128.nii.gz\n",
      "(3.0, 3.0, 3.0)\n"
     ]
    }
   ],
   "source": [
    "#split into suspense bins\n",
    "bins=10\n",
    "bincol=11\n",
    "for bin in range(1,bins+1): #bins\n",
    "    ind=event_mat[:,bincol]==bin\n",
    "    print(ind)\n",
    "    bold_temp=[]\n",
    "    bold_temp=bold[task_name][ind,:]\n",
    "    print(bold_temp.shape)\n",
    "    bold_vol_event=[]\n",
    "    bold_vol_event=np.zeros((avg_mask.shape[0], avg_mask.shape[1], avg_mask.shape[2], bold_temp.shape[0]))\n",
    "    bold_vol_event[coords[0], coords[1], coords[2], :] = bold_temp.T\n",
    "    print(bold_vol_event.shape)\n",
    "    output_name = firstlevel_sub_dir + '%s_task-view_sb%s_trim%d_%s_%s.nii.gz' % (sub,bin,n_trunc,hrshiftval,filtcutoff)\n",
    "    print(output_name)\n",
    "    bold_nii = nib.Nifti1Image(bold_vol_event, affine_mat)\n",
    "    hdr = bold_nii.header  # get a handle for the .nii file's header\n",
    "    print(dimsize)\n",
    "    hdr.set_zooms((dimsize[0], dimsize[1], dimsize[2],1))\n",
    "    nib.save(bold_nii, output_name)"
   ]
  },
  {
   "cell_type": "code",
   "execution_count": 89,
   "metadata": {
    "scrolled": true
   },
   "outputs": [
    {
     "name": "stdout",
     "output_type": "stream",
     "text": [
      "[ True  True  True ... False False False]\n",
      "(364, 76590, 1)\n",
      "(61, 73, 61, 364)\n",
      "/jukebox/norman/jantony/surprisesuspense/data/bids/Norman/Antony/ss/derivatives/firstlevel/sub-06/sub-06_task-view_gb1_trim3_5_128.nii.gz\n",
      "(3.0, 3.0, 3.0)\n",
      "[False False False ... False False False]\n",
      "(401, 76590, 1)\n",
      "(61, 73, 61, 401)\n",
      "/jukebox/norman/jantony/surprisesuspense/data/bids/Norman/Antony/ss/derivatives/firstlevel/sub-06/sub-06_task-view_gb2_trim3_5_128.nii.gz\n",
      "(3.0, 3.0, 3.0)\n",
      "[False False False ... False False False]\n",
      "(432, 76590, 1)\n",
      "(61, 73, 61, 432)\n",
      "/jukebox/norman/jantony/surprisesuspense/data/bids/Norman/Antony/ss/derivatives/firstlevel/sub-06/sub-06_task-view_gb3_trim3_5_128.nii.gz\n",
      "(3.0, 3.0, 3.0)\n",
      "[False False False ... False False False]\n",
      "(403, 76590, 1)\n",
      "(61, 73, 61, 403)\n",
      "/jukebox/norman/jantony/surprisesuspense/data/bids/Norman/Antony/ss/derivatives/firstlevel/sub-06/sub-06_task-view_gb4_trim3_5_128.nii.gz\n",
      "(3.0, 3.0, 3.0)\n",
      "[False False False ... False False False]\n",
      "(366, 76590, 1)\n",
      "(61, 73, 61, 366)\n",
      "/jukebox/norman/jantony/surprisesuspense/data/bids/Norman/Antony/ss/derivatives/firstlevel/sub-06/sub-06_task-view_gb5_trim3_5_128.nii.gz\n",
      "(3.0, 3.0, 3.0)\n",
      "[False False False ... False False False]\n",
      "(319, 76590, 1)\n",
      "(61, 73, 61, 319)\n",
      "/jukebox/norman/jantony/surprisesuspense/data/bids/Norman/Antony/ss/derivatives/firstlevel/sub-06/sub-06_task-view_gb6_trim3_5_128.nii.gz\n",
      "(3.0, 3.0, 3.0)\n",
      "[False False False ... False False False]\n",
      "(336, 76590, 1)\n",
      "(61, 73, 61, 336)\n",
      "/jukebox/norman/jantony/surprisesuspense/data/bids/Norman/Antony/ss/derivatives/firstlevel/sub-06/sub-06_task-view_gb7_trim3_5_128.nii.gz\n",
      "(3.0, 3.0, 3.0)\n",
      "[False False False ... False False False]\n",
      "(443, 76590, 1)\n",
      "(61, 73, 61, 443)\n",
      "/jukebox/norman/jantony/surprisesuspense/data/bids/Norman/Antony/ss/derivatives/firstlevel/sub-06/sub-06_task-view_gb8_trim3_5_128.nii.gz\n",
      "(3.0, 3.0, 3.0)\n",
      "[False False False ...  True  True  True]\n",
      "(344, 76590, 1)\n",
      "(61, 73, 61, 344)\n",
      "/jukebox/norman/jantony/surprisesuspense/data/bids/Norman/Antony/ss/derivatives/firstlevel/sub-06/sub-06_task-view_gb9_trim3_5_128.nii.gz\n",
      "(3.0, 3.0, 3.0)\n"
     ]
    }
   ],
   "source": [
    "#split into game bins\n",
    "bins=tngs\n",
    "bincol=0\n",
    "for bin in range(1,bins+1): #bins\n",
    "    ind=event_mat[:,bincol]==bin\n",
    "    print(ind)\n",
    "    bold_temp=[]\n",
    "    bold_temp=bold[task_name][ind,:]\n",
    "    print(bold_temp.shape)\n",
    "    bold_vol_event=[]\n",
    "    bold_vol_event=np.zeros((avg_mask.shape[0], avg_mask.shape[1], avg_mask.shape[2], bold_temp.shape[0]))\n",
    "    bold_vol_event[coords[0], coords[1], coords[2], :] = bold_temp.T\n",
    "    print(bold_vol_event.shape)\n",
    "    output_name = firstlevel_sub_dir + '%s_task-view_gb%s_trim%d_%s_%s.nii.gz' % (sub,bin,n_trunc,hrshiftval,filtcutoff)\n",
    "    print(output_name)\n",
    "    bold_nii = nib.Nifti1Image(bold_vol_event, affine_mat)\n",
    "    hdr = bold_nii.header  # get a handle for the .nii file's header\n",
    "    print(dimsize)\n",
    "    hdr.set_zooms((dimsize[0], dimsize[1], dimsize[2],1))\n",
    "    nib.save(bold_nii, output_name)"
   ]
  },
  {
   "cell_type": "code",
   "execution_count": null,
   "metadata": {},
   "outputs": [],
   "source": []
  }
 ],
 "metadata": {
  "kernelspec": {
   "display_name": "Python 3",
   "language": "python",
   "name": "python3"
  },
  "language_info": {
   "codemirror_mode": {
    "name": "ipython",
    "version": 3
   },
   "file_extension": ".py",
   "mimetype": "text/x-python",
   "name": "python",
   "nbconvert_exporter": "python",
   "pygments_lexer": "ipython3",
   "version": "3.7.6"
  }
 },
 "nbformat": 4,
 "nbformat_minor": 2
}
